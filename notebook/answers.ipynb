{
 "cells": [
  {
   "cell_type": "markdown",
   "metadata": {},
   "source": [
    "# Bernoulli Mixture Model: Theory\n",
    "\n",
    "To train a Bernoulli Mixture Model, the formulae are:\n",
    "\n",
    "- Expectation step\n",
    "\n",
    "$$z_{n, k} \\leftarrow \\frac{\\pi_k \\prod_{i = 1}^D \\mu_{k, i}^{x_{n, i}} (1 - \\mu_{k, i})^{1 - x_{n, i}} }{\\sum_{m = 1}^K \\pi_m \\prod_{i = 1}^D \\mu_{m, i}^{x_{n, i}} (1 - \\mu_{m, i})^{1 - x_{n, i}}}$$\n",
    "\n",
    "- Maximization step\n",
    "\n",
    "$$\\mathbf{\\mu_m} \\leftarrow \\mathbf{\\bar{x}_m}$$\n",
    "\n",
    "$$\\pi_m \\leftarrow \\frac{N_m}{N}$$\n",
    "\n",
    "where $\\mathbf{\\bar{x}_m} = \\frac{1}{N_m} \\sum_{n = 1}^N z_{n, m} \\mathbf{x_n}$ and $N_m = \\sum_{n = 1}^N z_{n, m}$"
   ]
  },
  {
   "cell_type": "markdown",
   "metadata": {},
   "source": [
    "# BMM Implementation\n",
    "\n",
    "see `bmm.py` for the complete implementation of the BMM"
   ]
  },
  {
   "cell_type": "code",
   "execution_count": 17,
   "metadata": {
    "collapsed": true
   },
   "outputs": [],
   "source": [
    "# settings\n",
    "\n",
    "data_path = '/home/data/ml/mnist'\n",
    "k = 10"
   ]
  },
  {
   "cell_type": "code",
   "execution_count": 25,
   "metadata": {
    "collapsed": true
   },
   "outputs": [],
   "source": [
    "%matplotlib inline\n",
    "\n",
    "import matplotlib\n",
    "import numpy as np\n",
    "import matplotlib.pyplot as plt"
   ]
  },
  {
   "cell_type": "code",
   "execution_count": 26,
   "metadata": {
    "collapsed": false
   },
   "outputs": [],
   "source": [
    "# loading the data\n",
    "\n",
    "from mnist import load_mnist\n",
    "data, labels = load_mnist(dataset='training', path=data_path)\n",
    "\n",
    "# pre-processing the data (reshape + making it binary)\n",
    "\n",
    "data = np.reshape(data, (60000, 784))\n",
    "data = np.where(data > 0.5, 1, 0)"
   ]
  },
  {
   "cell_type": "code",
   "execution_count": 27,
   "metadata": {
    "collapsed": false
   },
   "outputs": [],
   "source": [
    "# creating our model\n",
    "\n",
    "import bmm\n",
    "\n",
    "model = bmm.bmm(k, data, 784)"
   ]
  },
  {
   "cell_type": "code",
   "execution_count": 28,
   "metadata": {
    "collapsed": false
   },
   "outputs": [
    {
     "name": "stdout",
     "output_type": "stream",
     "text": [
      "iteration 1 - llk = -5608.030992918283\n",
      "iteration 2 - llk = -1296.8522988562108\n",
      "iteration 3 - llk = -1245.4698432348746\n",
      "iteration 4 - llk = -1255.2494159604662\n",
      "iteration 5 - llk = -1243.6874753613904\n",
      "iteration 6 - llk = -1209.729443974399\n",
      "iteration 7 - llk = -1185.8059892885158\n",
      "iteration 8 - llk = -1171.587276325702\n",
      "iteration 9 - llk = -1163.3657370116014\n",
      "iteration 10 - llk = -1156.9091169450662\n"
     ]
    }
   ],
   "source": [
    "model.fit()"
   ]
  }
 ],
 "metadata": {
  "kernelspec": {
   "display_name": "Python 3",
   "language": "python",
   "name": "python3"
  },
  "language_info": {
   "codemirror_mode": {
    "name": "ipython",
    "version": 3
   },
   "file_extension": ".py",
   "mimetype": "text/x-python",
   "name": "python",
   "nbconvert_exporter": "python",
   "pygments_lexer": "ipython3",
   "version": "3.5.1"
  }
 },
 "nbformat": 4,
 "nbformat_minor": 0
}
